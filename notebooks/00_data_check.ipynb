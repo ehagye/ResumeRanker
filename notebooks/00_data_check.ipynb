{
 "cells": [
  {
   "cell_type": "code",
   "execution_count": 1,
   "metadata": {},
   "outputs": [
    {
     "name": "stdout",
     "output_type": "stream",
     "text": [
      "Extracted '/Users/ehagye/Documents/ResumeProject/ResumeRanker/data/raw/ResumeData.zip' to '/Users/ehagye/Documents/ResumeProject/ResumeRanker/data/interim'\n",
      "   Resume_ID              Name                                        Skills  \\\n",
      "0          1        Ashley Ali                      TensorFlow, NLP, Pytorch   \n",
      "1          2      Wesley Roman  Deep Learning, Machine Learning, Python, SQL   \n",
      "2          3     Corey Sanchez         Ethical Hacking, Cybersecurity, Linux   \n",
      "3          4  Elizabeth Carney                   Python, Pytorch, TensorFlow   \n",
      "4          5        Julie Hill                              SQL, React, Java   \n",
      "\n",
      "   Experience (Years) Education                Certifications  \\\n",
      "0                  10      B.Sc                           NaN   \n",
      "1                  10       MBA                     Google ML   \n",
      "2                   1       MBA  Deep Learning Specialization   \n",
      "3                   7    B.Tech                 AWS Certified   \n",
      "4                   4       PhD                           NaN   \n",
      "\n",
      "                Job Role Recruiter Decision  Salary Expectation ($)  \\\n",
      "0          AI Researcher               Hire                  104895   \n",
      "1         Data Scientist               Hire                  113002   \n",
      "2  Cybersecurity Analyst               Hire                   71766   \n",
      "3          AI Researcher               Hire                   46848   \n",
      "4      Software Engineer               Hire                   87441   \n",
      "\n",
      "   Projects Count  AI Score (0-100)  \n",
      "0               8               100  \n",
      "1               1               100  \n",
      "2               7                70  \n",
      "3               0                95  \n",
      "4               9               100  \n"
     ]
    }
   ],
   "source": [
    "import sys\n",
    "sys.path.append('../')\n",
    "\n",
    "from src.data_load import extract_zip, load_csv\n",
    "\n",
    "extract_zip()\n",
    "df = load_csv()\n",
    "\n",
    "print(df.head())"
   ]
  }
 ],
 "metadata": {
  "kernelspec": {
   "display_name": ".venv",
   "language": "python",
   "name": "python3"
  },
  "language_info": {
   "codemirror_mode": {
    "name": "ipython",
    "version": 3
   },
   "file_extension": ".py",
   "mimetype": "text/x-python",
   "name": "python",
   "nbconvert_exporter": "python",
   "pygments_lexer": "ipython3",
   "version": "3.12.7"
  }
 },
 "nbformat": 4,
 "nbformat_minor": 2
}
