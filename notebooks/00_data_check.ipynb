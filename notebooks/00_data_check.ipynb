{
 "cells": [
  {
   "cell_type": "code",
   "execution_count": 11,
   "metadata": {},
   "outputs": [
    {
     "name": "stdout",
     "output_type": "stream",
     "text": [
      "Extracted '/Users/ehagye/Documents/ResumeProject/ResumeRanker/data/raw/ResumeData.zip' to '/Users/ehagye/Documents/ResumeProject/ResumeRanker/data/interim'\n",
      "0                               TensorFlow, NLP, Pytorch\n",
      "1           Deep Learning, Machine Learning, Python, SQL\n",
      "2                  Ethical Hacking, Cybersecurity, Linux\n",
      "3                            Python, Pytorch, TensorFlow\n",
      "4                                       SQL, React, Java\n",
      "                             ...                        \n",
      "995                Cybersecurity, Linux, Ethical Hacking\n",
      "996                      Deep Learning, Machine Learning\n",
      "997                                      TensorFlow, NLP\n",
      "998    Linux, Networking, Cybersecurity, Ethical Hacking\n",
      "999         SQL, Machine Learning, Python, Deep Learning\n",
      "Name: Skills, Length: 1000, dtype: object\n"
     ]
    }
   ],
   "source": [
    "import sys\n",
    "sys.path.append('../')\n",
    "\n",
    "from src.data_load import extract_zip, load_csv\n",
    "\n",
    "extract_zip()\n",
    "df = load_csv()\n",
    "\n",
    "print(df['Skills'])"
   ]
  }
 ],
 "metadata": {
  "kernelspec": {
   "display_name": ".venv",
   "language": "python",
   "name": "python3"
  },
  "language_info": {
   "codemirror_mode": {
    "name": "ipython",
    "version": 3
   },
   "file_extension": ".py",
   "mimetype": "text/x-python",
   "name": "python",
   "nbconvert_exporter": "python",
   "pygments_lexer": "ipython3",
   "version": "3.12.7"
  }
 },
 "nbformat": 4,
 "nbformat_minor": 2
}
