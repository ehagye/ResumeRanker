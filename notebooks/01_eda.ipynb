{
 "cells": [
  {
   "cell_type": "markdown",
   "metadata": {},
   "source": [
    "# Resume Outcome Predictor for Data Science - EDA\n",
    "\n",
    "## 1. Inital Overview of the Dataset\n",
    "\n",
    "- 1000 instances\n",
    "- 11 different features\n",
    "- About half object types and half integers\n",
    "- Target variable will be Recruiter Decision\n",
    "\n",
    "[See the Dataset](https://www.kaggle.com/datasets/mdtalhask/ai-powered-resume-screening-dataset-2025?resource=download)"
   ]
  },
  {
   "cell_type": "code",
   "execution_count": 2,
   "metadata": {},
   "outputs": [
    {
     "name": "stdout",
     "output_type": "stream",
     "text": [
      "Extracted '/Users/ehagye/Documents/ResumeProject/ResumeRanker/data/raw/ResumeData.zip' to '/Users/ehagye/Documents/ResumeProject/ResumeRanker/data/interim'\n",
      "Head of dataset\n",
      "   Resume_ID              Name                                        Skills  \\\n",
      "0          1        Ashley Ali                      TensorFlow, NLP, Pytorch   \n",
      "1          2      Wesley Roman  Deep Learning, Machine Learning, Python, SQL   \n",
      "2          3     Corey Sanchez         Ethical Hacking, Cybersecurity, Linux   \n",
      "3          4  Elizabeth Carney                   Python, Pytorch, TensorFlow   \n",
      "4          5        Julie Hill                              SQL, React, Java   \n",
      "\n",
      "   Experience (Years) Education                Certifications  \\\n",
      "0                  10      B.Sc                           NaN   \n",
      "1                  10       MBA                     Google ML   \n",
      "2                   1       MBA  Deep Learning Specialization   \n",
      "3                   7    B.Tech                 AWS Certified   \n",
      "4                   4       PhD                           NaN   \n",
      "\n",
      "                Job Role Recruiter Decision  Salary Expectation ($)  \\\n",
      "0          AI Researcher               Hire                  104895   \n",
      "1         Data Scientist               Hire                  113002   \n",
      "2  Cybersecurity Analyst               Hire                   71766   \n",
      "3          AI Researcher               Hire                   46848   \n",
      "4      Software Engineer               Hire                   87441   \n",
      "\n",
      "   Projects Count  AI Score (0-100)  \n",
      "0               8               100  \n",
      "1               1               100  \n",
      "2               7                70  \n",
      "3               0                95  \n",
      "4               9               100   \n",
      "\n",
      "Dataset info\n",
      "<class 'pandas.core.frame.DataFrame'>\n",
      "RangeIndex: 1000 entries, 0 to 999\n",
      "Data columns (total 11 columns):\n",
      " #   Column                  Non-Null Count  Dtype \n",
      "---  ------                  --------------  ----- \n",
      " 0   Resume_ID               1000 non-null   int64 \n",
      " 1   Name                    1000 non-null   object\n",
      " 2   Skills                  1000 non-null   object\n",
      " 3   Experience (Years)      1000 non-null   int64 \n",
      " 4   Education               1000 non-null   object\n",
      " 5   Certifications          726 non-null    object\n",
      " 6   Job Role                1000 non-null   object\n",
      " 7   Recruiter Decision      1000 non-null   object\n",
      " 8   Salary Expectation ($)  1000 non-null   int64 \n",
      " 9   Projects Count          1000 non-null   int64 \n",
      " 10  AI Score (0-100)        1000 non-null   int64 \n",
      "dtypes: int64(5), object(6)\n",
      "memory usage: 86.1+ KB\n",
      "None \n",
      "\n",
      "Dataset shape\n",
      "(1000, 11) \n",
      "\n",
      "Dataset columns\n",
      "Index(['Resume_ID', 'Name', 'Skills', 'Experience (Years)', 'Education',\n",
      "       'Certifications', 'Job Role', 'Recruiter Decision',\n",
      "       'Salary Expectation ($)', 'Projects Count', 'AI Score (0-100)'],\n",
      "      dtype='object') \n",
      "\n"
     ]
    }
   ],
   "source": [
    "import sys\n",
    "sys.path.append('../')\n",
    "\n",
    "from src.data_load import extract_zip, load_csv\n",
    "\n",
    "extract_zip()\n",
    "df = load_csv()\n",
    "\n",
    "print(\"Head of dataset\")\n",
    "print(df.head(), \"\\n\")\n",
    "print(\"Dataset info\")\n",
    "print(df.info(), \"\\n\")\n",
    "print(\"Dataset shape\")\n",
    "print(df.shape, \"\\n\")\n",
    "print(\"Dataset columns\")\n",
    "print(df.columns, \"\\n\")"
   ]
  },
  {
   "cell_type": "markdown",
   "metadata": {},
   "source": [
    "## 2. Check for Missing Values\n",
    "- Only missing values for certification feature\n",
    "- This means that the job applicant does not have a certificate so they won't be removed\n"
   ]
  },
  {
   "cell_type": "code",
   "execution_count": 3,
   "metadata": {},
   "outputs": [
    {
     "name": "stdout",
     "output_type": "stream",
     "text": [
      "Amount of Null for each feature\n",
      "Resume_ID                   0\n",
      "Name                        0\n",
      "Skills                      0\n",
      "Experience (Years)          0\n",
      "Education                   0\n",
      "Certifications            274\n",
      "Job Role                    0\n",
      "Recruiter Decision          0\n",
      "Salary Expectation ($)      0\n",
      "Projects Count              0\n",
      "AI Score (0-100)            0\n",
      "dtype: int64\n",
      "\n",
      " Percentage of Null for each feature\n"
     ]
    },
    {
     "data": {
      "text/plain": [
       "Resume_ID                  0.0\n",
       "Name                       0.0\n",
       "Skills                     0.0\n",
       "Experience (Years)         0.0\n",
       "Education                  0.0\n",
       "Certifications            27.4\n",
       "Job Role                   0.0\n",
       "Recruiter Decision         0.0\n",
       "Salary Expectation ($)     0.0\n",
       "Projects Count             0.0\n",
       "AI Score (0-100)           0.0\n",
       "dtype: float64"
      ]
     },
     "execution_count": 3,
     "metadata": {},
     "output_type": "execute_result"
    }
   ],
   "source": [
    "# printing total null of each feature\n",
    "print(\"Amount of Null for each feature\")\n",
    "print(df.isnull().sum())\n",
    "\n",
    "# printing percentage of null for each feature\n",
    "print(\"\\n\", \"Percentage of Null for each feature\")\n",
    "df.isnull().mean() * 100"
   ]
  },
  {
   "cell_type": "markdown",
   "metadata": {},
   "source": [
    "## 3. Examine Categorical Features\n",
    "- There is an even distribution of categories for almost all features\n",
    "- However the target variable *Recruiter Decision* is very imbalanced with majority Hire\n",
    "- This is surprising as you would assume most Resumes to be rejected\n",
    "- Will want to create more data points to even the balance maybe using SMOTE"
   ]
  },
  {
   "cell_type": "code",
   "execution_count": 4,
   "metadata": {},
   "outputs": [
    {
     "name": "stdout",
     "output_type": "stream",
     "text": [
      "Education\n",
      "B.Sc      205\n",
      "MBA       202\n",
      "B.Tech    200\n",
      "M.Tech    198\n",
      "PhD       195\n",
      "Name: count, dtype: int64 \n",
      "\n",
      "Certifications\n",
      "Deep Learning Specialization    255\n",
      "AWS Certified                   249\n",
      "Google ML                       222\n",
      "Name: count, dtype: int64 \n",
      "\n",
      "Job Role\n",
      "AI Researcher            257\n",
      "Data Scientist           255\n",
      "Cybersecurity Analyst    255\n",
      "Software Engineer        233\n",
      "Name: count, dtype: int64 \n",
      "\n",
      "Recruiter Decision\n",
      "Hire      812\n",
      "Reject    188\n",
      "Name: count, dtype: int64 \n",
      "\n",
      "Skills\n",
      "Python              388\n",
      "SQL                 370\n",
      "Ethical Hacking     206\n",
      "TensorFlow          205\n",
      "Machine Learning    200\n",
      "NLP                 195\n",
      "Linux               191\n",
      "Pytorch             189\n",
      "Java                188\n",
      "Deep Learning       184\n",
      "Cybersecurity       184\n",
      "Networking          184\n",
      "C++                 168\n",
      "React               165\n",
      "Name: count, dtype: int64\n"
     ]
    }
   ],
   "source": [
    "# printing out each categorical feature and their amounts\n",
    "print(df['Education'].value_counts(), \"\\n\")\n",
    "print(df['Certifications'].value_counts(), \"\\n\")\n",
    "print(df['Job Role'].value_counts(), \"\\n\")\n",
    "print(df['Recruiter Decision'].value_counts(), \"\\n\")\n",
    "print(df['Skills'].str.split(', ').explode().value_counts())\n"
   ]
  },
  {
   "cell_type": "markdown",
   "metadata": {},
   "source": [
    "## 4. Examine Numberic Features"
   ]
  },
  {
   "cell_type": "code",
   "execution_count": null,
   "metadata": {},
   "outputs": [],
   "source": []
  }
 ],
 "metadata": {
  "kernelspec": {
   "display_name": ".venv",
   "language": "python",
   "name": "python3"
  },
  "language_info": {
   "codemirror_mode": {
    "name": "ipython",
    "version": 3
   },
   "file_extension": ".py",
   "mimetype": "text/x-python",
   "name": "python",
   "nbconvert_exporter": "python",
   "pygments_lexer": "ipython3",
   "version": "3.12.7"
  }
 },
 "nbformat": 4,
 "nbformat_minor": 2
}
