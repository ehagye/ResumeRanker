{
 "cells": [
  {
   "cell_type": "markdown",
   "metadata": {},
   "source": [
    "# Resume Outcome Predictor for Data Science - EDA\n",
    "\n",
    "## 1. Inital Overview of the Dataset\n",
    "\n",
    "- 1000 instances\n",
    "- 11 different features\n",
    "- About half object types and half integers\n",
    "- Target variable will be Recruiter Decision\n",
    "\n",
    "[See the Dataset](https://www.kaggle.com/datasets/mdtalhask/ai-powered-resume-screening-dataset-2025?resource=download)"
   ]
  },
  {
   "cell_type": "code",
   "execution_count": null,
   "metadata": {},
   "outputs": [],
   "source": [
    "import sys\n",
    "sys.path.append('../')\n",
    "\n",
    "from src.data_load import extract_zip, load_csv\n",
    "\n",
    "extract_zip()\n",
    "df = load_csv()\n",
    "\n",
    "print(\"Head of dataset\")\n",
    "print(df.head(), \"\\n\")\n",
    "print(\"Dataset info\")\n",
    "print(df.info(), \"\\n\")\n",
    "print(\"Dataset shape\")\n",
    "print(df.shape, \"\\n\")\n",
    "print(\"Dataset columns\")\n",
    "print(df.columns, \"\\n\")"
   ]
  },
  {
   "cell_type": "markdown",
   "metadata": {},
   "source": [
    "## 2. Check for Missing Values\n",
    "- Only missing values for certification feature\n",
    "- This means that the job applicant does not have a certificate so they won't be removed\n"
   ]
  },
  {
   "cell_type": "code",
   "execution_count": 14,
   "metadata": {},
   "outputs": [
    {
     "name": "stdout",
     "output_type": "stream",
     "text": [
      "Amount of Null for each feature\n",
      "Resume_ID                   0\n",
      "Name                        0\n",
      "Skills                      0\n",
      "Experience (Years)          0\n",
      "Education                   0\n",
      "Certifications            274\n",
      "Job Role                    0\n",
      "Recruiter Decision          0\n",
      "Salary Expectation ($)      0\n",
      "Projects Count              0\n",
      "AI Score (0-100)            0\n",
      "dtype: int64\n",
      "\n",
      " Percentage of Null for each feature\n"
     ]
    },
    {
     "data": {
      "text/plain": [
       "Resume_ID                  0.0\n",
       "Name                       0.0\n",
       "Skills                     0.0\n",
       "Experience (Years)         0.0\n",
       "Education                  0.0\n",
       "Certifications            27.4\n",
       "Job Role                   0.0\n",
       "Recruiter Decision         0.0\n",
       "Salary Expectation ($)     0.0\n",
       "Projects Count             0.0\n",
       "AI Score (0-100)           0.0\n",
       "dtype: float64"
      ]
     },
     "execution_count": 14,
     "metadata": {},
     "output_type": "execute_result"
    }
   ],
   "source": [
    "# printing total null of each feature\n",
    "print(\"Amount of Null for each feature\")\n",
    "print(df.isnull().sum())\n",
    "\n",
    "# printing percentage of null for each feature\n",
    "print(\"\\n\", \"Percentage of Null for each feature\")\n",
    "df.isnull().mean() * 100"
   ]
  },
  {
   "cell_type": "markdown",
   "metadata": {},
   "source": [
    "## 3. Examine Categorical Features\n",
    "- There is an even distribution of categories for almost all features\n",
    "- However the target variable *Recruiter Decision* is very imbalanced with majority Hire\n",
    "- This is surprising as you would assume most Resumes to be rejected"
   ]
  },
  {
   "cell_type": "code",
   "execution_count": null,
   "metadata": {},
   "outputs": [],
   "source": [
    "# printing out each categorical feature and their amounts\n",
    "print(df['Education'].value_counts(), \"\\n\")\n",
    "print(df['Certifications'].value_counts(), \"\\n\")\n",
    "print(df['Job Role'].value_counts(), \"\\n\")\n",
    "print(df['Recruiter Decision'].value_counts(), \"\\n\")\n",
    "print(df['Skills'].str.split(', ').explode().value_counts())\n"
   ]
  }
 ],
 "metadata": {
  "kernelspec": {
   "display_name": ".venv",
   "language": "python",
   "name": "python3"
  },
  "language_info": {
   "codemirror_mode": {
    "name": "ipython",
    "version": 3
   },
   "file_extension": ".py",
   "mimetype": "text/x-python",
   "name": "python",
   "nbconvert_exporter": "python",
   "pygments_lexer": "ipython3",
   "version": "3.12.7"
  }
 },
 "nbformat": 4,
 "nbformat_minor": 2
}
