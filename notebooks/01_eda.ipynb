{
 "cells": [
  {
   "cell_type": "code",
   "execution_count": 12,
   "metadata": {},
   "outputs": [
    {
     "name": "stdout",
     "output_type": "stream",
     "text": [
      "Extracted '/Users/ehagye/Documents/ResumeProject/ResumeRanker/data/raw/ResumeData.zip' to '/Users/ehagye/Documents/ResumeProject/ResumeRanker/data/interim'\n",
      "Head of dataset\n",
      "   Resume_ID              Name                                        Skills  \\\n",
      "0          1        Ashley Ali                      TensorFlow, NLP, Pytorch   \n",
      "1          2      Wesley Roman  Deep Learning, Machine Learning, Python, SQL   \n",
      "2          3     Corey Sanchez         Ethical Hacking, Cybersecurity, Linux   \n",
      "3          4  Elizabeth Carney                   Python, Pytorch, TensorFlow   \n",
      "4          5        Julie Hill                              SQL, React, Java   \n",
      "\n",
      "   Experience (Years) Education                Certifications  \\\n",
      "0                  10      B.Sc                           NaN   \n",
      "1                  10       MBA                     Google ML   \n",
      "2                   1       MBA  Deep Learning Specialization   \n",
      "3                   7    B.Tech                 AWS Certified   \n",
      "4                   4       PhD                           NaN   \n",
      "\n",
      "                Job Role Recruiter Decision  Salary Expectation ($)  \\\n",
      "0          AI Researcher               Hire                  104895   \n",
      "1         Data Scientist               Hire                  113002   \n",
      "2  Cybersecurity Analyst               Hire                   71766   \n",
      "3          AI Researcher               Hire                   46848   \n",
      "4      Software Engineer               Hire                   87441   \n",
      "\n",
      "   Projects Count  AI Score (0-100)  \n",
      "0               8               100  \n",
      "1               1               100  \n",
      "2               7                70  \n",
      "3               0                95  \n",
      "4               9               100  \n",
      "\n",
      "\n",
      "Dataset info\n",
      "<class 'pandas.core.frame.DataFrame'>\n",
      "RangeIndex: 1000 entries, 0 to 999\n",
      "Data columns (total 11 columns):\n",
      " #   Column                  Non-Null Count  Dtype \n",
      "---  ------                  --------------  ----- \n",
      " 0   Resume_ID               1000 non-null   int64 \n",
      " 1   Name                    1000 non-null   object\n",
      " 2   Skills                  1000 non-null   object\n",
      " 3   Experience (Years)      1000 non-null   int64 \n",
      " 4   Education               1000 non-null   object\n",
      " 5   Certifications          726 non-null    object\n",
      " 6   Job Role                1000 non-null   object\n",
      " 7   Recruiter Decision      1000 non-null   object\n",
      " 8   Salary Expectation ($)  1000 non-null   int64 \n",
      " 9   Projects Count          1000 non-null   int64 \n",
      " 10  AI Score (0-100)        1000 non-null   int64 \n",
      "dtypes: int64(5), object(6)\n",
      "memory usage: 86.1+ KB\n",
      "None\n",
      "\n",
      "\n",
      "Dataset shape\n",
      "(1000, 11)\n",
      "\n",
      "\n",
      "Dataset columns\n",
      "Index(['Resume_ID', 'Name', 'Skills', 'Experience (Years)', 'Education',\n",
      "       'Certifications', 'Job Role', 'Recruiter Decision',\n",
      "       'Salary Expectation ($)', 'Projects Count', 'AI Score (0-100)'],\n",
      "      dtype='object')\n"
     ]
    }
   ],
   "source": [
    "import numpy as np\n",
    "\n",
    "import sys\n",
    "sys.path.append('../')\n",
    "\n",
    "from src.data_load import extract_zip, load_csv\n",
    "\n",
    "extract_zip()\n",
    "df = load_csv()\n",
    "\n",
    "print(\"Head of dataset\")\n",
    "print(df.head())\n",
    "print(\"\\n\")\n",
    "print(\"Dataset info\")\n",
    "print(df.info())\n",
    "print(\"\\n\")\n",
    "print(\"Dataset shape\")\n",
    "print(df.shape)\n",
    "print(\"\\n\")\n",
    "print(\"Dataset columns\")\n",
    "print(df.columns)"
   ]
  },
  {
   "cell_type": "code",
   "execution_count": 13,
   "metadata": {},
   "outputs": [
    {
     "ename": "AttributeError",
     "evalue": "'function' object has no attribute 'sum'",
     "output_type": "error",
     "traceback": [
      "\u001b[31m---------------------------------------------------------------------------\u001b[39m",
      "\u001b[31mAttributeError\u001b[39m                            Traceback (most recent call last)",
      "\u001b[36mCell\u001b[39m\u001b[36m \u001b[39m\u001b[32mIn[13]\u001b[39m\u001b[32m, line 1\u001b[39m\n\u001b[32m----> \u001b[39m\u001b[32m1\u001b[39m \u001b[43mdf\u001b[49m\u001b[43m.\u001b[49m\u001b[43misnull\u001b[49m\u001b[43m.\u001b[49m\u001b[43msum\u001b[49m()\n\u001b[32m      2\u001b[39m df.isnull().mean() * \u001b[32m100\u001b[39m\n",
      "\u001b[31mAttributeError\u001b[39m: 'function' object has no attribute 'sum'"
     ]
    }
   ],
   "source": [
    "df.isnull.sum()\n",
    "df.isnull().mean() * 100"
   ]
  }
 ],
 "metadata": {
  "kernelspec": {
   "display_name": ".venv",
   "language": "python",
   "name": "python3"
  },
  "language_info": {
   "codemirror_mode": {
    "name": "ipython",
    "version": 3
   },
   "file_extension": ".py",
   "mimetype": "text/x-python",
   "name": "python",
   "nbconvert_exporter": "python",
   "pygments_lexer": "ipython3",
   "version": "3.12.7"
  }
 },
 "nbformat": 4,
 "nbformat_minor": 2
}
