{
 "cells": [
  {
   "cell_type": "markdown",
   "metadata": {},
   "source": [
    "# Resume Outcome Predictor for Data Science - EDA\n",
    "\n",
    "## 1. Inital Overview of the Dataset\n",
    "\n",
    "- 1000 instances\n",
    "- 11 different features\n",
    "- About half object types and half integers\n",
    "- Target variable will be Recruiter Decision\n",
    "\n",
    "[See the Dataset](https://www.kaggle.com/datasets/mdtalhask/ai-powered-resume-screening-dataset-2025?resource=download)"
   ]
  },
  {
   "cell_type": "code",
   "execution_count": null,
   "metadata": {},
   "outputs": [],
   "source": [
    "import sys\n",
    "sys.path.append('../')\n",
    "\n",
    "import seaborn as sns\n",
    "import matplotlib.pyplot as plt\n",
    "\n",
    "from src.data_load import extract_zip, load_csv\n",
    "\n",
    "extract_zip()\n",
    "df = load_csv()\n",
    "\n",
    "print(\"Head of dataset\")\n",
    "print(df.head(), \"\\n\")\n",
    "print(\"Dataset info\")\n",
    "print(df.info(), \"\\n\")\n",
    "print(\"Dataset shape\")\n",
    "print(df.shape, \"\\n\")\n",
    "print(\"Dataset columns\")\n",
    "print(df.columns, \"\\n\")"
   ]
  },
  {
   "cell_type": "markdown",
   "metadata": {},
   "source": [
    "## 2. Check for Missing Values\n",
    "- Only missing values for certification feature\n",
    "- This means that the job applicant does not have a certificate so they won't be removed\n"
   ]
  },
  {
   "cell_type": "code",
   "execution_count": null,
   "metadata": {},
   "outputs": [],
   "source": [
    "# printing total null of each feature\n",
    "print(\"Amount of Null for each feature\")\n",
    "print(df.isnull().sum())\n",
    "\n",
    "# printing percentage of null for each feature\n",
    "print(\"\\n\", \"Percentage of Null for each feature\")\n",
    "df.isnull().mean() * 100"
   ]
  },
  {
   "cell_type": "markdown",
   "metadata": {},
   "source": [
    "## 3. Examine Categorical Features\n",
    "- There is an even distribution of categories for almost all features"
   ]
  },
  {
   "cell_type": "code",
   "execution_count": null,
   "metadata": {},
   "outputs": [],
   "source": [
    "# printing out each categorical feature and their amounts\n",
    "print(df['Education'].value_counts(), \"\\n\")\n",
    "print(df['Certifications'].value_counts(), \"\\n\")\n",
    "print(df['Job Role'].value_counts(), \"\\n\")\n",
    "print(df['Recruiter Decision'].value_counts(), \"\\n\")\n",
    "print(df['Skills'].str.split(', ').explode().value_counts())\n",
    "\n",
    "# ploting the counts of each of the categorical features\n",
    "for col in ['Education', 'Certifications', 'Job Role']:\n",
    "\n",
    "    value_counts = df[col].value_counts()\n",
    "    min_count = value_counts.min()\n",
    "    max_count = value_counts.max()\n",
    "\n",
    "    padding_range = max_count - min_count\n",
    "    lower_limit = max(min_count - 0.3 * padding_range, 0)\n",
    "    upper_limit = max_count + 0.3 * padding_range\n",
    "\n",
    "    plt.figure()\n",
    "    sns.countplot(x=col, hue=col, data=df, palette='Set1', legend=False)\n",
    "    plt.tight_layout()\n",
    "    plt.ylim(lower_limit, upper_limit)\n",
    "\n",
    "# Graph for each of the individual skills\n",
    "plt.figure()\n",
    "ml_skills = df['Skills'].str.split(', ').explode()\n",
    "sns.countplot(y=ml_skills, hue=ml_skills, palette='Set1', legend=False)\n"
   ]
  },
  {
   "cell_type": "markdown",
   "metadata": {},
   "source": [
    "## 4. Examine Numeric Features\n",
    "- all of these features are also very evenly distributed"
   ]
  },
  {
   "cell_type": "code",
   "execution_count": null,
   "metadata": {},
   "outputs": [],
   "source": [
    "# printing basic data for features\n",
    "print(df[['Experience (Years)', 'Salary Expectation ($)', 'Projects Count']].describe())\n",
    "\n",
    "# creating histogram plot for each feature\n",
    "for col in ['Experience (Years)', 'Projects Count']:\n",
    "    plt.figure()\n",
    "    sns.histplot(x=col, hue=col, data=df, kde=True, palette='Set2', legend=False).set(title=f\"{col} Distribution\")\n",
    "\n",
    "# boxplot for salary expectation\n",
    "plt.figure()\n",
    "sns.boxplot(df['Salary Expectation ($)'], orient='h').set(title=\"Salary Expectation Distribution\")"
   ]
  },
  {
   "cell_type": "markdown",
   "metadata": {},
   "source": [
    "## Examine Target Variable\n",
    "- The target variable *Recruiter Decision* is very imbalanced\n",
    "- This is odd as you would normally expect there to be more applicants rejected\n",
    "- Plan to fix this issue using SMOTE before training a model"
   ]
  },
  {
   "cell_type": "code",
   "execution_count": null,
   "metadata": {},
   "outputs": [],
   "source": [
    "print(df['Recruiter Decision'].value_counts(normalize=True) * 100)\n",
    "\n",
    "sns.countplot(x='Recruiter Decision', data=df).set(title=\"Target Variable Distribution\")"
   ]
  }
 ],
 "metadata": {
  "kernelspec": {
   "display_name": ".venv",
   "language": "python",
   "name": "python3"
  },
  "language_info": {
   "codemirror_mode": {
    "name": "ipython",
    "version": 3
   },
   "file_extension": ".py",
   "mimetype": "text/x-python",
   "name": "python",
   "nbconvert_exporter": "python",
   "pygments_lexer": "ipython3",
   "version": "3.12.7"
  }
 },
 "nbformat": 4,
 "nbformat_minor": 2
}
